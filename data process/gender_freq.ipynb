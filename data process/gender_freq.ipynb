{
 "cells": [
  {
   "cell_type": "code",
   "execution_count": 4,
   "id": "cc1eabf4",
   "metadata": {
    "ExecuteTime": {
     "end_time": "2021-12-11T21:15:19.709990Z",
     "start_time": "2021-12-11T21:15:19.706990Z"
    }
   },
   "outputs": [],
   "source": [
    "import pandas as pd\n",
    "import numpy as np\n",
    "from ast import literal_eval\n",
    "from tqdm.notebook import tqdm"
   ]
  },
  {
   "cell_type": "code",
   "execution_count": 2,
   "id": "c0c145c5",
   "metadata": {
    "ExecuteTime": {
     "end_time": "2021-12-11T21:14:12.502116Z",
     "start_time": "2021-12-11T21:14:12.499091Z"
    }
   },
   "outputs": [],
   "source": [
    "tqdm.pandas()\n",
    "def clean_data(data):\n",
    "    # filter out the noise in the data\n",
    "    data['domains'] = data['domains'].progress_apply(literal_eval)\n",
    "    data = data[data['domains'].progress_apply(lambda x: 'gamereactor' not in x)]\n",
    "    data = data[data['domains'].progress_apply(lambda x: 'duke' not in x)]\n",
    "    return data"
   ]
  },
  {
   "cell_type": "code",
   "execution_count": null,
   "id": "740257b8",
   "metadata": {
    "ExecuteTime": {
     "end_time": "2021-12-11T21:48:15.253434Z",
     "start_time": "2021-12-11T21:15:26.295575Z"
    },
    "pycharm": {
     "is_executing": true
    }
   },
   "outputs": [],
   "source": [
    "path = \"E:\\\\PycharmProject\\\\ada_project\\\\data\\\\\"\n",
    "\n",
    "years = [2015, 2016, 2017, 2018, 2019, 2020]  # \n",
    "all_occur = []\n",
    "all_speaker = []\n",
    "all_quote = []\n",
    "for year in years:\n",
    "    print(year)\n",
    "    df = pd.read_csv(path + 'processed-quotes-{}.csv'.format(year))\n",
    "    df = clean_data(df)\n",
    "    gender_data = df.groupby('gender')\n",
    "    quote_num = gender_data.apply(len)\n",
    "    gender_freq = gender_data.agg({'numOccurrences': 'sum'}).sort_values(by='numOccurrences',\n",
    "                                                                         ascending=False)\n",
    "    \n",
    "    speaker_df = df.drop_duplicates(subset='speaker')\n",
    "    speaker_data = speaker_df.groupby('gender')\n",
    "    \n",
    "    speaker_num = speaker_data.apply(len)\n",
    "    \n",
    "    all_quote.append(quote_num)\n",
    "    all_occur.append(gender_freq)\n",
    "    all_speaker.append(speaker_num)\n",
    "    \n",
    "all_quote = pd.concat(all_quote, axis=1)\n",
    "all_occur = pd.concat(all_occur, axis=1)\n",
    "all_speaker = pd.concat(all_speaker, axis=1)\n",
    "all_speaker"
   ]
  },
  {
   "cell_type": "code",
   "execution_count": 6,
   "id": "886c8b8b",
   "metadata": {
    "ExecuteTime": {
     "end_time": "2021-12-11T21:49:14.145620Z",
     "start_time": "2021-12-11T21:49:14.129620Z"
    }
   },
   "outputs": [
    {
     "data": {
      "text/plain": [
       "gender\n",
       "male      1771658.0\n",
       "female     526565.0\n",
       "other        3277.0\n",
       "dtype: float64"
      ]
     },
     "execution_count": 6,
     "metadata": {},
     "output_type": "execute_result"
    }
   ],
   "source": [
    "all_speaker = all_speaker.fillna(0)\n",
    "sum_all_speaker = all_speaker.apply(sum, axis=1).sort_values(ascending=False)\n",
    "sum_all_speaker['other'] = sum(sum_all_speaker.iloc[2:])\n",
    "sum_all_speaker = sum_all_speaker[sum_all_speaker >= sum_all_speaker['other']]\n",
    "sum_all_speaker"
   ]
  },
  {
   "cell_type": "code",
   "execution_count": 7,
   "id": "1cb9a8ee",
   "metadata": {
    "ExecuteTime": {
     "end_time": "2021-12-11T21:49:23.554757Z",
     "start_time": "2021-12-11T21:49:23.541757Z"
    }
   },
   "outputs": [
    {
     "data": {
      "text/plain": [
       "gender\n",
       "male      61509042.0\n",
       "female    12704175.0\n",
       "other       144659.0\n",
       "dtype: float64"
      ]
     },
     "execution_count": 7,
     "metadata": {},
     "output_type": "execute_result"
    }
   ],
   "source": [
    "all_quote = all_quote.fillna(0)\n",
    "sum_all_quote = all_quote.apply(sum, axis=1).sort_values(ascending=False)\n",
    "sum_all_quote['other'] = sum(sum_all_quote.iloc[2:])\n",
    "sum_all_quote = sum_all_quote[sum_all_quote >= sum_all_quote['other']]\n",
    "sum_all_quote"
   ]
  },
  {
   "cell_type": "code",
   "execution_count": 9,
   "id": "7257df24",
   "metadata": {
    "ExecuteTime": {
     "end_time": "2021-12-11T21:49:39.828780Z",
     "start_time": "2021-12-11T21:49:39.820779Z"
    }
   },
   "outputs": [
    {
     "data": {
      "text/plain": [
       "gender\n",
       "male      228674655.0\n",
       "female     48346221.0\n",
       "other        577029.0\n",
       "dtype: float64"
      ]
     },
     "execution_count": 9,
     "metadata": {},
     "output_type": "execute_result"
    }
   ],
   "source": [
    "all_occur = all_occur.fillna(0)\n",
    "sum_occur = all_occur.apply(sum, axis=1)\n",
    "sum_occur['other'] = sum(sum_occur.iloc[2:])\n",
    "sum_all_occur = sum_occur[sum_occur >= sum_occur['other']]\n",
    "sum_all_occur"
   ]
  },
  {
   "cell_type": "code",
   "execution_count": 11,
   "id": "cb00c996",
   "metadata": {
    "ExecuteTime": {
     "end_time": "2021-12-11T21:52:02.681937Z",
     "start_time": "2021-12-11T21:52:02.661937Z"
    }
   },
   "outputs": [
    {
     "data": {
      "text/html": [
       "<div>\n",
       "<style scoped>\n",
       "    .dataframe tbody tr th:only-of-type {\n",
       "        vertical-align: middle;\n",
       "    }\n",
       "\n",
       "    .dataframe tbody tr th {\n",
       "        vertical-align: top;\n",
       "    }\n",
       "\n",
       "    .dataframe thead th {\n",
       "        text-align: right;\n",
       "    }\n",
       "</style>\n",
       "<table border=\"1\" class=\"dataframe\">\n",
       "  <thead>\n",
       "    <tr style=\"text-align: right;\">\n",
       "      <th></th>\n",
       "      <th>speaker</th>\n",
       "      <th>quote</th>\n",
       "      <th>count</th>\n",
       "    </tr>\n",
       "    <tr>\n",
       "      <th>gender</th>\n",
       "      <th></th>\n",
       "      <th></th>\n",
       "      <th></th>\n",
       "    </tr>\n",
       "  </thead>\n",
       "  <tbody>\n",
       "    <tr>\n",
       "      <th>male</th>\n",
       "      <td>1771658.0</td>\n",
       "      <td>61509042.0</td>\n",
       "      <td>228674655.0</td>\n",
       "    </tr>\n",
       "    <tr>\n",
       "      <th>female</th>\n",
       "      <td>526565.0</td>\n",
       "      <td>12704175.0</td>\n",
       "      <td>48346221.0</td>\n",
       "    </tr>\n",
       "    <tr>\n",
       "      <th>other</th>\n",
       "      <td>3277.0</td>\n",
       "      <td>144659.0</td>\n",
       "      <td>577029.0</td>\n",
       "    </tr>\n",
       "  </tbody>\n",
       "</table>\n",
       "</div>"
      ],
      "text/plain": [
       "          speaker       quote        count\n",
       "gender                                    \n",
       "male    1771658.0  61509042.0  228674655.0\n",
       "female   526565.0  12704175.0   48346221.0\n",
       "other      3277.0    144659.0     577029.0"
      ]
     },
     "execution_count": 11,
     "metadata": {},
     "output_type": "execute_result"
    }
   ],
   "source": [
    "all_freq = pd.concat([sum_all_speaker, sum_all_quote, sum_all_occur], axis=1)\n",
    "all_freq.columns = ['speaker','quote', 'count']\n",
    "all_freq"
   ]
  },
  {
   "cell_type": "code",
   "execution_count": 12,
   "id": "a05c87b9",
   "metadata": {
    "ExecuteTime": {
     "end_time": "2021-12-11T21:52:19.329798Z",
     "start_time": "2021-12-11T21:52:19.309798Z"
    },
    "pycharm": {
     "name": "#%%\n"
    }
   },
   "outputs": [],
   "source": [
    "all_freq.to_csv('all_gender_freq.csv')"
   ]
  }
 ],
 "metadata": {
  "kernelspec": {
   "display_name": "Python 3 (ipykernel)",
   "language": "python",
   "name": "python3"
  },
  "language_info": {
   "codemirror_mode": {
    "name": "ipython",
    "version": 3
   },
   "file_extension": ".py",
   "mimetype": "text/x-python",
   "name": "python",
   "nbconvert_exporter": "python",
   "pygments_lexer": "ipython3",
   "version": "3.8.5"
  }
 },
 "nbformat": 4,
 "nbformat_minor": 5
}