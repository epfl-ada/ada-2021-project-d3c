{
 "cells": [
  {
   "cell_type": "code",
   "execution_count": 1,
   "id": "713e64f1",
   "metadata": {
    "ExecuteTime": {
     "end_time": "2021-12-13T10:32:48.484496Z",
     "start_time": "2021-12-13T10:32:43.986232Z"
    }
   },
   "outputs": [],
   "source": [
    "import pandas as pd\n",
    "from tqdm.notebook import tqdm\n",
    "from ast import literal_eval"
   ]
  },
  {
   "cell_type": "code",
   "execution_count": 2,
   "id": "f7417dfe",
   "metadata": {
    "ExecuteTime": {
     "end_time": "2021-12-13T10:32:48.489486Z",
     "start_time": "2021-12-13T10:32:48.485486Z"
    }
   },
   "outputs": [],
   "source": [
    "tqdm.pandas()\n",
    "def clean_data(data):\n",
    "    # filter out the noise in the data\n",
    "    data['domains'] = data['domains'].progress_apply(literal_eval)\n",
    "    data = data[data['domains'].progress_apply(lambda x: 'gamereactor' not in x)]\n",
    "    data = data[data['domains'].progress_apply(lambda x: 'duke' not in x)]\n",
    "    return data"
   ]
  },
  {
   "cell_type": "code",
   "execution_count": 3,
   "id": "70d879f9",
   "metadata": {
    "ExecuteTime": {
     "end_time": "2021-12-13T14:20:05.785738Z",
     "start_time": "2021-12-13T14:20:05.769738Z"
    }
   },
   "outputs": [],
   "source": [
    "# this function is used to search the matching data, and grouped them according to different genders\n",
    "# we grouped them for each month, and record the total occurrence in a month.\n",
    "def gender_bias_time_series(data, groups, groupby, year):\n",
    "    total_occu = []\n",
    "    for subgroup in groups:\n",
    "        print(subgroup)\n",
    "        if subgroup == 'Total':\n",
    "            subgroup_data = data\n",
    "        else:\n",
    "            if groupby == 'domains':\n",
    "                subgroup_data = data[data[groupby].apply(lambda x: subgroup in x)]\n",
    "            else:\n",
    "                subgroup_data = data[data[groupby].apply(lambda x: subgroup == x)]\n",
    "\n",
    "        # sort by date\n",
    "        subgroup_data = subgroup_data.sort_values(by='date')\n",
    "        # parse to datetime\n",
    "        subgroup_data['date'] = pd.to_datetime(subgroup_data['date'])\n",
    "\n",
    "        # male\n",
    "        male_data = subgroup_data[subgroup_data.gender == 'male']\n",
    "        male_occu = male_data.groupby(male_data['date'].dt.to_period(\"M\")).agg({'numOccurrences':'sum'})\n",
    "        male_occu = male_occu.reset_index()\n",
    "        male_occu['gender'] = 'male'\n",
    "        # female\n",
    "        female_data = subgroup_data[subgroup_data.gender == 'female']\n",
    "        female_occu = female_data.groupby(female_data['date'].dt.to_period(\"M\")).agg({'numOccurrences':'sum'})\n",
    "        female_occu = female_occu.reset_index()\n",
    "        female_occu['gender'] = 'female'\n",
    "        \n",
    "        subgroup_occu = pd.concat([male_occu, female_occu])\n",
    "        subgroup_occu[groupby] = subgroup\n",
    "        total_occu.append(subgroup_occu)\n",
    "    \n",
    "    total_occu = pd.concat(total_occu)\n",
    "    total_occu.to_csv('new_grouped_gender/' + groupby+\"_gender_gap_{}.csv\".format(year))\n",
    "    return total_occu"
   ]
  },
  {
   "cell_type": "code",
   "execution_count": null,
   "id": "8eaa20d6",
   "metadata": {
    "ExecuteTime": {
     "end_time": "2021-12-11T18:44:01.211965Z",
     "start_time": "2021-12-11T18:13:47.785651Z"
    },
    "pycharm": {
     "is_executing": true
    }
   },
   "outputs": [],
   "source": [
    "path = \"E:\\\\PycharmProject\\\\ada_project\\\\data\\\\\"\n",
    "years = [2015, 2016, 2017, 2018, 2019, 2020]\n",
    "for year in years:\n",
    "    print(year)\n",
    "    data = pd.read_csv(path + 'processed-quotes-{}.csv'.format(year))\n",
    "    data = clean_data(data)\n",
    "    party_groups = ['Republican Party', 'Democratic Party', 'Conservative Party',\n",
    "          'Labour Party', 'Liberal Democrats', 'Bharatiya Janata Party', 'Indian National Congress']\n",
    "\n",
    "    gender_bias_time_series(data, groups=party_groups, groupby='party', year=year)\n",
    "\n",
    "    domain_groups = ['nytimes', 'cnn', 'foxnews', 'bbc', 'nbcnews', 'time', 'cnbc']\n",
    "    gender_bias_time_series(data, groups=domain_groups, groupby='domains', year=year)\n",
    "\n",
    "    nationality_groups = ['United States of America', 'United Kingdom',\n",
    "                          'Australia', 'Canada', 'France', 'Germany', 'India']\n",
    "\n",
    "    gender_bias_time_series(data, groups=nationality_groups, groupby='domains', year=year)"
   ]
  },
  {
   "cell_type": "code",
   "execution_count": 9,
   "id": "1f8893e2",
   "metadata": {
    "ExecuteTime": {
     "end_time": "2021-12-11T19:02:21.774922Z",
     "start_time": "2021-12-11T18:56:02.616895Z"
    },
    "pycharm": {
     "name": "#%%\n"
    }
   },
   "outputs": [
    {
     "data": {
      "application/vnd.jupyter.widget-view+json": {
       "model_id": "1f738b2f10fa4ecc9150cc2df16b65c7",
       "version_major": 2,
       "version_minor": 0
      },
      "text/plain": [
       "  0%|          | 0/14183294 [00:00<?, ?it/s]"
      ]
     },
     "metadata": {},
     "output_type": "display_data"
    },
    {
     "data": {
      "application/vnd.jupyter.widget-view+json": {
       "model_id": "3670800e048043a7bbefa9da18fc0a40",
       "version_major": 2,
       "version_minor": 0
      },
      "text/plain": [
       "  0%|          | 0/14183294 [00:00<?, ?it/s]"
      ]
     },
     "metadata": {},
     "output_type": "display_data"
    },
    {
     "data": {
      "application/vnd.jupyter.widget-view+json": {
       "model_id": "6e0e7c6af01d47c2a5473168c7295829",
       "version_major": 2,
       "version_minor": 0
      },
      "text/plain": [
       "  0%|          | 0/14181225 [00:00<?, ?it/s]"
      ]
     },
     "metadata": {},
     "output_type": "display_data"
    }
   ],
   "source": [
    "# this cell is used to search the topk speaker for a specific years\n",
    "def select_topk_freq_speaker(data, topk=None):\n",
    "    speaker_data =data.groupby('speaker')\n",
    "    speaker_freq = speaker_data.agg({'numOccurrences': 'sum'}).sort_values(by='numOccurrences', \n",
    "                                                                                 ascending=False)\n",
    "    if topk is not None:\n",
    "        return speaker_freq[:topk]\n",
    "    else:\n",
    "        return speaker_freq\n",
    "    \n",
    "def search_speaker_info(data, speakers):\n",
    "    tmp = data.drop_duplicates('speaker')\n",
    "    tmp = tmp.set_index('speaker')\n",
    "    tmp = tmp.loc[speakers.index]\n",
    "    tmp = pd.concat([tmp, speakers], axis=1)\n",
    "    return tmp[['nationality', 'gender', 'party', 'numOccurrences']]\n",
    "\n",
    "def search_topk_speaker(data, topk, year):\n",
    "    # male\n",
    "    male_data = data[data.gender == 'male']\n",
    "    male_topk_speaker = select_topk_freq_speaker(male_data, topk)\n",
    "    male_topk_speaker = search_speaker_info(male_data, male_topk_speaker)\n",
    "    male_topk_speaker = male_topk_speaker.reset_index()\n",
    "    male_topk_speaker['gender'] = 'male'\n",
    "    # female\n",
    "    female_data = data[data.gender == 'female']\n",
    "    female_topk_speaker = select_topk_freq_speaker(female_data, topk)\n",
    "    female_topk_speaker = search_speaker_info(female_data, female_topk_speaker)\n",
    "    female_topk_speaker = female_topk_speaker.reset_index()\n",
    "    female_topk_speaker['gender'] = 'female'\n",
    "\n",
    "    total_topk_speaker = pd.concat([male_topk_speaker, female_topk_speaker])\n",
    "    total_topk_speaker.to_csv('{}-topk_speaker.csv'.format(year))\n",
    "\n",
    "year = 2019\n",
    "data = pd.read_csv(path + 'processed-quotes-{}.csv'.format(year))\n",
    "data = clean_data(data)\n",
    "search_topk_speaker(data, 10, year)"
   ]
  }
 ],
 "metadata": {
  "kernelspec": {
   "display_name": "Python 3 (ipykernel)",
   "language": "python",
   "name": "python3"
  },
  "language_info": {
   "codemirror_mode": {
    "name": "ipython",
    "version": 3
   },
   "file_extension": ".py",
   "mimetype": "text/x-python",
   "name": "python",
   "nbconvert_exporter": "python",
   "pygments_lexer": "ipython3",
   "version": "3.8.5"
  }
 },
 "nbformat": 4,
 "nbformat_minor": 5
}