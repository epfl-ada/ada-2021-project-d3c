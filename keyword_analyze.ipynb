{
 "cells": [
  {
   "cell_type": "code",
   "execution_count": 1,
   "id": "fa3508c7",
   "metadata": {
    "ExecuteTime": {
     "end_time": "2021-12-06T10:25:47.750072Z",
     "start_time": "2021-12-06T10:25:41.934998Z"
    }
   },
   "outputs": [],
   "source": [
    "import pandas as pd\n",
    "import numpy as np\n",
    "\n",
    "from tqdm.notebook import tqdm\n",
    "\n",
    "from sklearn.feature_extraction.text import TfidfVectorizer\n",
    "from sklearn.metrics.pairwise import linear_kernel\n",
    "\n",
    "from operator import itemgetter\n",
    "\n",
    "from transformers import AutoModelForSequenceClassification\n",
    "from transformers import AutoTokenizer\n",
    "\n",
    "import torch"
   ]
  },
  {
   "cell_type": "code",
   "execution_count": 13,
   "id": "64cc8b52",
   "metadata": {
    "ExecuteTime": {
     "end_time": "2021-12-06T14:23:55.666441Z",
     "start_time": "2021-12-06T14:23:05.168195Z"
    }
   },
   "outputs": [
    {
     "data": {
      "text/html": [
       "<div>\n",
       "<style scoped>\n",
       "    .dataframe tbody tr th:only-of-type {\n",
       "        vertical-align: middle;\n",
       "    }\n",
       "\n",
       "    .dataframe tbody tr th {\n",
       "        vertical-align: top;\n",
       "    }\n",
       "\n",
       "    .dataframe thead th {\n",
       "        text-align: right;\n",
       "    }\n",
       "</style>\n",
       "<table border=\"1\" class=\"dataframe\">\n",
       "  <thead>\n",
       "    <tr style=\"text-align: right;\">\n",
       "      <th></th>\n",
       "      <th>quoteID</th>\n",
       "      <th>quotation</th>\n",
       "      <th>speaker</th>\n",
       "      <th>qids</th>\n",
       "      <th>date</th>\n",
       "      <th>numOccurrences</th>\n",
       "      <th>domains</th>\n",
       "      <th>nationality</th>\n",
       "      <th>gender</th>\n",
       "      <th>party</th>\n",
       "      <th>id</th>\n",
       "    </tr>\n",
       "  </thead>\n",
       "  <tbody>\n",
       "    <tr>\n",
       "      <th>0</th>\n",
       "      <td>2019-04-08-048753</td>\n",
       "      <td>It is immoral. It is harmful. It is hurtful.</td>\n",
       "      <td>Donald Trump</td>\n",
       "      <td>Q22686</td>\n",
       "      <td>2019-04-08 16:22:00</td>\n",
       "      <td>44</td>\n",
       "      <td>['mercedsunstar', 'sacbee', 'mynorthwest', 'la...</td>\n",
       "      <td>United States of America</td>\n",
       "      <td>male</td>\n",
       "      <td>Republican Party</td>\n",
       "      <td>Q22686</td>\n",
       "    </tr>\n",
       "    <tr>\n",
       "      <th>1</th>\n",
       "      <td>2019-05-15-053302</td>\n",
       "      <td>It is important for our equine science student...</td>\n",
       "      <td>Sally Johnson</td>\n",
       "      <td>Q42336656</td>\n",
       "      <td>2019-05-15 18:03:22</td>\n",
       "      <td>1</td>\n",
       "      <td>['lanereport']</td>\n",
       "      <td>United States of America</td>\n",
       "      <td>female</td>\n",
       "      <td>NaN</td>\n",
       "      <td>Q42336656</td>\n",
       "    </tr>\n",
       "    <tr>\n",
       "      <th>2</th>\n",
       "      <td>2019-02-27-055406</td>\n",
       "      <td>It is important to many Native American tribes...</td>\n",
       "      <td>Rafael Ortega</td>\n",
       "      <td>Q16672061</td>\n",
       "      <td>2019-02-27 00:00:00</td>\n",
       "      <td>1</td>\n",
       "      <td>['kstp']</td>\n",
       "      <td>Mexico</td>\n",
       "      <td>male</td>\n",
       "      <td>NaN</td>\n",
       "      <td>Q16672061</td>\n",
       "    </tr>\n",
       "    <tr>\n",
       "      <th>3</th>\n",
       "      <td>2019-12-08-023053</td>\n",
       "      <td>It is impossible, biologically, truly to `rest...</td>\n",
       "      <td>Barry Lopez</td>\n",
       "      <td>Q809063</td>\n",
       "      <td>2019-12-08 06:00:00</td>\n",
       "      <td>1</td>\n",
       "      <td>['timescolonist']</td>\n",
       "      <td>United States of America</td>\n",
       "      <td>male</td>\n",
       "      <td>NaN</td>\n",
       "      <td>Q809063</td>\n",
       "    </tr>\n",
       "    <tr>\n",
       "      <th>4</th>\n",
       "      <td>2019-02-21-000088</td>\n",
       "      <td>Chilton  put it on a little tape recorder and...</td>\n",
       "      <td>Sam the Sham</td>\n",
       "      <td>Q1971786</td>\n",
       "      <td>2019-02-21 11:05:34</td>\n",
       "      <td>1</td>\n",
       "      <td>['nashvillescene']</td>\n",
       "      <td>United States of America</td>\n",
       "      <td>male</td>\n",
       "      <td>NaN</td>\n",
       "      <td>Q1971786</td>\n",
       "    </tr>\n",
       "  </tbody>\n",
       "</table>\n",
       "</div>"
      ],
      "text/plain": [
       "             quoteID                                          quotation  \\\n",
       "0  2019-04-08-048753       It is immoral. It is harmful. It is hurtful.   \n",
       "1  2019-05-15-053302  It is important for our equine science student...   \n",
       "2  2019-02-27-055406  It is important to many Native American tribes...   \n",
       "3  2019-12-08-023053  It is impossible, biologically, truly to `rest...   \n",
       "4  2019-02-21-000088   Chilton  put it on a little tape recorder and...   \n",
       "\n",
       "         speaker       qids                 date  numOccurrences  \\\n",
       "0   Donald Trump     Q22686  2019-04-08 16:22:00              44   \n",
       "1  Sally Johnson  Q42336656  2019-05-15 18:03:22               1   \n",
       "2  Rafael Ortega  Q16672061  2019-02-27 00:00:00               1   \n",
       "3    Barry Lopez    Q809063  2019-12-08 06:00:00               1   \n",
       "4   Sam the Sham   Q1971786  2019-02-21 11:05:34               1   \n",
       "\n",
       "                                             domains  \\\n",
       "0  ['mercedsunstar', 'sacbee', 'mynorthwest', 'la...   \n",
       "1                                     ['lanereport']   \n",
       "2                                           ['kstp']   \n",
       "3                                  ['timescolonist']   \n",
       "4                                 ['nashvillescene']   \n",
       "\n",
       "                nationality  gender             party         id  \n",
       "0  United States of America    male  Republican Party     Q22686  \n",
       "1  United States of America  female               NaN  Q42336656  \n",
       "2                    Mexico    male               NaN  Q16672061  \n",
       "3  United States of America    male               NaN    Q809063  \n",
       "4  United States of America    male               NaN   Q1971786  "
      ]
     },
     "execution_count": 13,
     "metadata": {},
     "output_type": "execute_result"
    }
   ],
   "source": [
    "# load preprocessed data\n",
    "year = 2019\n",
    "path = \"E:\\\\PycharmProject\\\\ada_project\\\\data\\\\\"\n",
    "data = pd.read_csv(path + 'processed-quotes-{}.csv'.format(year))\n",
    "data.head()"
   ]
  },
  {
   "cell_type": "code",
   "execution_count": 3,
   "id": "9f019b9d",
   "metadata": {
    "ExecuteTime": {
     "end_time": "2021-12-06T10:27:03.326106Z",
     "start_time": "2021-12-06T10:26:49.333183Z"
    }
   },
   "outputs": [],
   "source": [
    "task='sentiment'\n",
    "MODEL = f\"cardiffnlp/twitter-roberta-base-{task}\"\n",
    "\n",
    "tokenizer = AutoTokenizer.from_pretrained(MODEL)\n",
    "\n",
    "labels = ['negative', 'neutral', 'positive']\n",
    "\n",
    "model = AutoModelForSequenceClassification.from_pretrained(MODEL)\n",
    "model.save_pretrained(MODEL)\n",
    "model = model.to(\"cuda\")\n",
    "\n",
    "# Return all document ids that that have cosine similarity with the query larger than a threshold\n",
    "def search_vec_sklearn(query, features, threshold=0.1):\n",
    "    new_features = tf.transform([query])\n",
    "    cosine_similarities = linear_kernel(new_features, features).flatten()\n",
    "    related_docs_indices, cos_sim_sorted = zip(*sorted(enumerate(cosine_similarities), key=itemgetter(1), \n",
    "                                                       reverse=True))\n",
    "    doc_ids = []\n",
    "    for i, cos_sim in enumerate(cos_sim_sorted):\n",
    "        if cos_sim < threshold:\n",
    "            break\n",
    "        doc_ids.append(related_docs_indices[i])\n",
    "    return doc_ids"
   ]
  },
  {
   "cell_type": "code",
   "execution_count": 4,
   "id": "54f8e9fb",
   "metadata": {
    "ExecuteTime": {
     "end_time": "2021-12-06T10:27:03.342107Z",
     "start_time": "2021-12-06T10:27:03.327108Z"
    }
   },
   "outputs": [],
   "source": [
    "def gender_bias_time_series(data, keywords, features, labels, year, topic):\n",
    "    total_occu = []\n",
    "\n",
    "    for keyword in keywords:\n",
    "        print(keyword)\n",
    "        ret_ids = search_vec_sklearn(keyword, features)\n",
    "        topic_data = data.iloc[ret_ids]\n",
    "        # sort by date\n",
    "        topic_data = topic_data.sort_values(by='date')\n",
    "        # parse to datetime\n",
    "        topic_data['date'] = pd.to_datetime(topic_data['date'])\n",
    "        \n",
    "        quote_labels = []\n",
    "        for quote in tqdm(topic_data['quotation']):\n",
    "            encoded_input = tokenizer(quote, max_length=512, \n",
    "                                      return_tensors='pt', truncation=True, add_special_tokens=True).to(\"cuda\")\n",
    "            with torch.no_grad():\n",
    "                output = model(**encoded_input)\n",
    "            scores = output[0][0].detach().cpu().numpy()\n",
    "            quote_labels.append(labels[np.argmax(scores)])\n",
    "        topic_data['sentiment'] = quote_labels\n",
    "        topic_occu = []\n",
    "        for label in labels:\n",
    "            subgroup_data = topic_data[topic_data['sentiment'] == label]\n",
    "            # male\n",
    "            male_data = subgroup_data[subgroup_data.gender == 'male']\n",
    "            male_occu = male_data.groupby(male_data['date'].dt.to_period(\"M\")).agg({'numOccurrences':'sum'})\n",
    "            male_occu = male_occu.reset_index()\n",
    "            male_occu['gender'] = 'male'\n",
    "            # female\n",
    "            female_data = subgroup_data[subgroup_data.gender == 'female']\n",
    "            female_occu = female_data.groupby(female_data['date'].dt.to_period(\"M\")).agg({'numOccurrences':'sum'})\n",
    "            female_occu = female_occu.reset_index()\n",
    "            female_occu['gender'] = 'female'\n",
    "        \n",
    "            subgroup_occu = pd.concat([male_occu, female_occu])\n",
    "            subgroup_occu['sentiment'] = label\n",
    "            topic_occu.append(subgroup_occu)\n",
    "            \n",
    "        topic_occu = pd.concat(topic_occu)\n",
    "        topic_occu['topic'] = keyword\n",
    "        total_occu.append(topic_occu)\n",
    "    \n",
    "    total_occu = pd.concat(total_occu)\n",
    "    total_occu.to_csv(topic+\"-sentiment-{}.csv\".format(year))\n",
    "    return total_occu"
   ]
  },
  {
   "cell_type": "code",
   "execution_count": 14,
   "id": "354174d6",
   "metadata": {
    "ExecuteTime": {
     "end_time": "2021-12-06T14:27:13.711834Z",
     "start_time": "2021-12-06T14:23:55.667451Z"
    }
   },
   "outputs": [],
   "source": [
    "# all quotation sentences.\n",
    "original_documents = data['quotation'].values\n",
    "# Retrieval model\n",
    "tf = TfidfVectorizer(analyzer='word', ngram_range=(1,1), min_df=1, stop_words='english')\n",
    "features = tf.fit_transform(original_documents)"
   ]
  },
  {
   "cell_type": "code",
   "execution_count": null,
   "id": "77f7c62b",
   "metadata": {
    "ExecuteTime": {
     "end_time": "2021-12-03T11:02:21.864913Z",
     "start_time": "2021-12-03T10:24:09.409681Z"
    },
    "scrolled": true,
    "pycharm": {
     "is_executing": true
    }
   },
   "outputs": [],
   "source": [
    "topic = 'sports'\n",
    "keywords = ['football', 'basketball', 'tennis', 'swimming', 'fitness']\n",
    "gender_bias_time_series(data, keywords=keywords, features=features, labels=labels, year=year, topic=topic)"
   ]
  },
  {
   "cell_type": "code",
   "execution_count": null,
   "id": "54e43cb0",
   "metadata": {
    "ExecuteTime": {
     "end_time": "2021-12-03T16:41:55.003202Z",
     "start_time": "2021-12-03T16:33:13.979237Z"
    },
    "scrolled": true,
    "pycharm": {
     "is_executing": true
    }
   },
   "outputs": [],
   "source": [
    "topic = 'people'\n",
    "keywords = ['donald trump', 'joe biden', 'nancy pelosi', 'elizabeth warren']\n",
    "gender_bias_time_series(data, keywords=keywords, features=features, labels=labels, year=year, topic=topic)"
   ]
  },
  {
   "cell_type": "code",
   "execution_count": null,
   "id": "76e95ca9",
   "metadata": {
    "ExecuteTime": {
     "end_time": "2021-12-06T13:53:26.185909Z",
     "start_time": "2021-12-06T13:44:40.197239Z"
    },
    "pycharm": {
     "is_executing": true
    }
   },
   "outputs": [],
   "source": [
    "topic = 'entertainment'\n",
    "keywords = ['movie', 'music', 'art', 'book', 'tv']\n",
    "gender_bias_time_series(data, keywords=keywords, features=features, labels=labels, year=year, topic=topic)"
   ]
  },
  {
   "cell_type": "code",
   "execution_count": null,
   "id": "d8cf0d86",
   "metadata": {
    "ExecuteTime": {
     "end_time": "2021-12-04T13:02:56.609877Z",
     "start_time": "2021-12-04T12:48:17.956623Z"
    },
    "scrolled": true,
    "pycharm": {
     "is_executing": true
    }
   },
   "outputs": [],
   "source": [
    "topic = 'gender'\n",
    "keywords = ['child brides', 'sexual harassment', 'feminism', 'gender inequality', 'abortion']\n",
    "gender_bias_time_series(data, keywords=keywords, features=features, labels=labels, year=year, topic=topic)"
   ]
  },
  {
   "cell_type": "code",
   "execution_count": null,
   "id": "6caa35cb",
   "metadata": {
    "ExecuteTime": {
     "end_time": "2021-12-05T00:33:46.092022Z",
     "start_time": "2021-12-05T00:05:21.963381Z"
    },
    "pycharm": {
     "is_executing": true
    }
   },
   "outputs": [],
   "source": [
    "topic = 'politics'\n",
    "keywords = ['vote', 'election', 'government', 'party politics', 'law', 'legal']\n",
    "gender_bias_time_series(data, keywords=keywords, features=features, labels=labels, year=year, topic=topic)"
   ]
  },
  {
   "cell_type": "code",
   "execution_count": null,
   "id": "f1594c56",
   "metadata": {
    "ExecuteTime": {
     "end_time": "2021-12-05T19:28:27.471947Z",
     "start_time": "2021-12-05T19:19:16.494498Z"
    },
    "pycharm": {
     "is_executing": true
    }
   },
   "outputs": [],
   "source": [
    "topic = 'education'\n",
    "keywords = ['school', 'education', 'student', 'teacher', 'tuition']\n",
    "gender_bias_time_series(data, keywords=keywords, features=features, labels=labels, year=year, topic=topic)"
   ]
  },
  {
   "cell_type": "code",
   "execution_count": null,
   "id": "e734b4fa",
   "metadata": {
    "ExecuteTime": {
     "end_time": "2021-12-05T20:17:02.331535Z",
     "start_time": "2021-12-05T19:47:55.517524Z"
    },
    "pycharm": {
     "is_executing": true
    }
   },
   "outputs": [],
   "source": [
    "topic = 'health'\n",
    "keywords = ['health insurance', 'disease', 'medicine', 'hospital', 'doctor', 'nurse']\n",
    "gender_bias_time_series(data, keywords=keywords, features=features, labels=labels, year=year, topic=topic)"
   ]
  },
  {
   "cell_type": "code",
   "execution_count": null,
   "id": "0108cd72",
   "metadata": {
    "ExecuteTime": {
     "end_time": "2021-12-06T15:50:43.640821Z",
     "start_time": "2021-12-06T14:27:13.712834Z"
    },
    "pycharm": {
     "is_executing": true
    }
   },
   "outputs": [],
   "source": [
    "topic = 'business'\n",
    "keywords = ['market', 'banking', 'investment', 'stock', 'management', 'company', 'business']\n",
    "gender_bias_time_series(data, keywords=keywords, features=features, labels=labels, year=year, topic=topic)"
   ]
  },
  {
   "cell_type": "code",
   "execution_count": null,
   "id": "ea3f0b51",
   "metadata": {
    "ExecuteTime": {
     "end_time": "2021-12-06T16:14:36.332589Z",
     "start_time": "2021-12-06T15:50:43.641820Z"
    },
    "pycharm": {
     "name": "#%%\n",
     "is_executing": true
    }
   },
   "outputs": [],
   "source": [
    "topic = 'lifestyle'\n",
    "keywords = ['pets', 'fashion', 'clothes', 'food', 'travel', 'shopping']\n",
    "gender_bias_time_series(data, keywords=keywords, features=features, labels=labels, year=year, topic=topic)"
   ]
  }
 ],
 "metadata": {
  "kernelspec": {
   "display_name": "Python 3 (ipykernel)",
   "language": "python",
   "name": "python3"
  },
  "language_info": {
   "codemirror_mode": {
    "name": "ipython",
    "version": 3
   },
   "file_extension": ".py",
   "mimetype": "text/x-python",
   "name": "python",
   "nbconvert_exporter": "python",
   "pygments_lexer": "ipython3",
   "version": "3.8.5"
  }
 },
 "nbformat": 4,
 "nbformat_minor": 5
}